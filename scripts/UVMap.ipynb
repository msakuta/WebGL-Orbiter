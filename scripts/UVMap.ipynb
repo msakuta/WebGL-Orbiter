{
 "cells": [
  {
   "cell_type": "code",
   "execution_count": 7,
   "metadata": {},
   "outputs": [],
   "source": [
    "import numpy as np\n",
    "import matplotlib.pyplot as plt\n",
    "import math\n",
    "from sphere_uv import SphereUV"
   ]
  },
  {
   "cell_type": "code",
   "execution_count": 2,
   "metadata": {},
   "outputs": [],
   "source": [
    "sphere_uv = SphereUV(\"../src/models/phobos_t.obj\")"
   ]
  },
  {
   "cell_type": "code",
   "execution_count": null,
   "metadata": {},
   "outputs": [],
   "source": [
    "for face in sphere_uv.faces:\n",
    "    for v0, v1 in zip(face, face[1:] + [face[-1]]):\n",
    "        # print(uv, len(uvidx))\n",
    "        uvv = np.asarray([sphere_uv.uvs[v0.t], sphere_uv.uvs[v1.t]])\n",
    "        # print(uvv)\n",
    "        plt.plot(uvv[:,0], uvv[:,1], \"-\")"
   ]
  },
  {
   "cell_type": "code",
   "execution_count": null,
   "metadata": {},
   "outputs": [],
   "source": [
    "uvidx, uvbuf = SphereUV.gen_uvs(sphere_uv.faces, sphere_uv.vertices)\n",
    "for uv in uvidx:\n",
    "    # print(uv, len(uvidx))\n",
    "    uvv = np.asarray([uvbuf[vu] for vu in uv + [uv[0]]])\n",
    "    # print(uvv)\n",
    "    plt.plot(uvv[:,0], uvv[:,1], \"-\")"
   ]
  },
  {
   "cell_type": "code",
   "execution_count": null,
   "metadata": {},
   "outputs": [],
   "source": [
    "\n",
    "edges = []\n",
    "for face in sphere_uv.faces:\n",
    "    for edge in zip(face, face[1:] + [face[0]]):\n",
    "        # print(edge)\n",
    "        edgev = np.array([edge[0].v, edge[1].v])\n",
    "        # print(vertices[edge[0]], vertices[edge[1]])\n",
    "        # edges.append(vertices[edge,0], vertices[edge,1])\n",
    "        plt.plot(sphere_uv.vertices[edgev,0], sphere_uv.vertices[edgev,1], \"-\")\n"
   ]
  },
  {
   "cell_type": "code",
   "execution_count": 9,
   "metadata": {},
   "outputs": [
    {
     "name": "stdout",
     "output_type": "stream",
     "text": [
      "71 1241\n",
      "writing 630 normals\n"
     ]
    }
   ],
   "source": [
    "# Output to an obj file\n",
    "sphere_uv.write(\"../src/models/phobos_tf.obj\")\n"
   ]
  }
 ],
 "metadata": {
  "interpreter": {
   "hash": "4416b3808d24b1e959232c9df1233f43202776226e2907e9554a40e1c23b39cf"
  },
  "kernelspec": {
   "display_name": "Python 3.7.4 ('base')",
   "language": "python",
   "name": "python3"
  },
  "language_info": {
   "codemirror_mode": {
    "name": "ipython",
    "version": 3
   },
   "file_extension": ".py",
   "mimetype": "text/x-python",
   "name": "python",
   "nbconvert_exporter": "python",
   "pygments_lexer": "ipython3",
   "version": "3.7.4"
  },
  "orig_nbformat": 4
 },
 "nbformat": 4,
 "nbformat_minor": 2
}
