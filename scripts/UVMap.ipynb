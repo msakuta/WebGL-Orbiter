{
 "cells": [
  {
   "cell_type": "code",
   "execution_count": 16,
   "metadata": {},
   "outputs": [],
   "source": [
    "import numpy as np\n",
    "import matplotlib.pyplot as plt\n",
    "import math"
   ]
  },
  {
   "cell_type": "markdown",
   "metadata": {},
   "source": [
    "# Rationale\n",
    "\n",
    "We want to map a rectangular texture to a sphere with UV mapping.\n",
    "In 3D model conventions, texture coordinates are designed into a model, but in our case we want to generate from coordinates.\n",
    "\n",
    "It is a bit tricky since the conversion from 3D coordinates to 2D texture coordinates.\n",
    "With 3D coordinates $(x, y, z)$, we define the conversion:\n",
    "\n",
    "\\begin{align}\n",
    "\\phi &= \\mathbf{atan}\\left(\\frac{y}{x}\\right) \\\\\n",
    "\\theta &= \\mathbf{asin}\\left(\\frac{z}{\\sqrt{x^2 + y^2 + z^2}}\\right)\n",
    "\\end{align}\n",
    "\n",
    "However, it is a little more tricky since some of the vertices in a triangle wrap around $\\phi$ coordinate and shows an artifact that looks like a \"seam\".\n",
    "We want to detect the \"seams\" and put the vertex coordinates to closest neighbor.\n",
    "In particular, if any of the $\\phi$ values of vertices in a triangle have difference larger than $\\pi$, we will add a value to make the difference less than $\\pi$.\n",
    "We would like to define a function that maps a value wrap in $\\pi$.\n",
    "\n",
    "First, let's assume the input is normalized to 1.\n",
    "\n",
    "Then we can define a saw-like function like below.\n",
    "\n",
    "$$\n",
    "f(x) = x - \\mathrm{floor}(x - 0.5) - 1\n",
    "$$\n",
    "\n",
    "We can visualize the function like below."
   ]
  },
  {
   "cell_type": "code",
   "execution_count": null,
   "metadata": {},
   "outputs": [],
   "source": [
    "x = np.linspace(-2, 2, 1000)\n",
    "\n",
    "def f(x):\n",
    "    return x - np.floor(x - 0.5) - 1.\n",
    "\n",
    "y = f(x)\n",
    "\n",
    "plt.plot(x, y)\n",
    "plt.grid()\n",
    "plt.axis(\"square\")"
   ]
  },
  {
   "cell_type": "markdown",
   "metadata": {},
   "source": [
    "# The script\n",
    "\n",
    "We have `sphere_uv.py` that generates the UV coordinates and maps it with the function described above."
   ]
  },
  {
   "cell_type": "code",
   "execution_count": 17,
   "metadata": {},
   "outputs": [],
   "source": [
    "from sphere_uv import SphereUV"
   ]
  },
  {
   "cell_type": "code",
   "execution_count": 18,
   "metadata": {},
   "outputs": [],
   "source": [
    "sphere_uv = SphereUV(\"../src/models/phobos_t.obj\")"
   ]
  },
  {
   "cell_type": "code",
   "execution_count": null,
   "metadata": {},
   "outputs": [],
   "source": [
    "for face in sphere_uv.faces:\n",
    "    for v0, v1 in zip(face, face[1:] + [face[-1]]):\n",
    "        # print(uv, len(uvidx))\n",
    "        uvv = np.asarray([sphere_uv.uvs[v0.t], sphere_uv.uvs[v1.t]])\n",
    "        # print(uvv)\n",
    "        plt.plot(uvv[:,0], uvv[:,1], \"-\")"
   ]
  },
  {
   "cell_type": "code",
   "execution_count": null,
   "metadata": {},
   "outputs": [],
   "source": [
    "uvidx, uvbuf = SphereUV.gen_uvs(sphere_uv.faces, sphere_uv.vertices)\n",
    "for uv in uvidx:\n",
    "    # print(uv, len(uvidx))\n",
    "    uvv = np.asarray([uvbuf[vu] for vu in uv + [uv[0]]])\n",
    "    # print(uvv)\n",
    "    plt.plot(uvv[:,0], uvv[:,1], \"-\")"
   ]
  },
  {
   "cell_type": "code",
   "execution_count": null,
   "metadata": {},
   "outputs": [],
   "source": [
    "\n",
    "edges = []\n",
    "for face in sphere_uv.faces:\n",
    "    for edge in zip(face, face[1:] + [face[0]]):\n",
    "        # print(edge)\n",
    "        edgev = np.array([edge[0].v, edge[1].v])\n",
    "        # print(vertices[edge[0]], vertices[edge[1]])\n",
    "        # edges.append(vertices[edge,0], vertices[edge,1])\n",
    "        plt.plot(sphere_uv.vertices[edgev,0], sphere_uv.vertices[edgev,1], \"-\")\n"
   ]
  },
  {
   "cell_type": "code",
   "execution_count": 22,
   "metadata": {},
   "outputs": [
    {
     "name": "stdout",
     "output_type": "stream",
     "text": [
      "71 1241\n",
      "writing 630 normals\n"
     ]
    }
   ],
   "source": [
    "# Output to an obj file\n",
    "sphere_uv.write(\"../src/models/phobos_tf.obj\")\n"
   ]
  }
 ],
 "metadata": {
  "interpreter": {
   "hash": "4416b3808d24b1e959232c9df1233f43202776226e2907e9554a40e1c23b39cf"
  },
  "kernelspec": {
   "display_name": "Python 3.7.4 ('base')",
   "language": "python",
   "name": "python3"
  },
  "language_info": {
   "codemirror_mode": {
    "name": "ipython",
    "version": 3
   },
   "file_extension": ".py",
   "mimetype": "text/x-python",
   "name": "python",
   "nbconvert_exporter": "python",
   "pygments_lexer": "ipython3",
   "version": "3.7.4"
  },
  "orig_nbformat": 4
 },
 "nbformat": 4,
 "nbformat_minor": 2
}
